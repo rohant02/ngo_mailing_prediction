{
 "cells": [
  {
   "cell_type": "markdown",
   "metadata": {},
   "source": [
    "## Imports"
   ]
  },
  {
   "cell_type": "code",
   "execution_count": 1869,
   "metadata": {},
   "outputs": [],
   "source": [
    "import numpy as np\n",
    "import pandas as pd\n",
    "import seaborn as sns\n",
    "import matplotlib.pyplot as plt\n",
    "from datetime import datetime"
   ]
  },
  {
   "cell_type": "markdown",
   "metadata": {},
   "source": [
    "#### Importing data"
   ]
  },
  {
   "cell_type": "code",
   "execution_count": 1870,
   "metadata": {},
   "outputs": [],
   "source": [
    "campaigns = pd.read_csv(r'C:\\Users\\omgit\\Downloads\\GROUP ASSIGNMENT DSC use-case-20241205\\Data\\campaigns.csv',sep=';')\n",
    "donors = pd.read_csv(r'C:\\Users\\omgit\\Downloads\\GROUP ASSIGNMENT DSC use-case-20241205\\Data\\donors.csv')\n",
    "gifts = pd.read_csv(r'C:\\Users\\omgit\\Downloads\\GROUP ASSIGNMENT DSC use-case-20241205\\Data\\gifts.csv')\n",
    "campaign6169 = pd.read_csv(r'C:\\Users\\omgit\\Downloads\\GROUP ASSIGNMENT DSC use-case-20241205\\Data\\selection campaign 6169.csv')\n",
    "campaign7244 = pd.read_csv(r'C:\\Users\\omgit\\Downloads\\GROUP ASSIGNMENT DSC use-case-20241205\\Data\\selection campaign 7244.csv')\n"
   ]
  },
  {
   "cell_type": "markdown",
   "metadata": {},
   "source": [
    "#### Data Examination"
   ]
  },
  {
   "cell_type": "code",
   "execution_count": null,
   "metadata": {},
   "outputs": [],
   "source": [
    "donors.head()"
   ]
  },
  {
   "cell_type": "markdown",
   "metadata": {},
   "source": [
    "#### Checking for missing values"
   ]
  },
  {
   "cell_type": "code",
   "execution_count": null,
   "metadata": {},
   "outputs": [],
   "source": [
    "missing_values = donors.isnull().sum()\n",
    "print(\"Missing Values per Column:\\n\", missing_values)"
   ]
  },
  {
   "cell_type": "markdown",
   "metadata": {},
   "source": [
    "#### Filling missing values in the zipcode column"
   ]
  },
  {
   "cell_type": "code",
   "execution_count": 1873,
   "metadata": {},
   "outputs": [],
   "source": [
    "donors['zipcode'] = donors['zipcode'].fillna(-1)"
   ]
  },
  {
   "cell_type": "markdown",
   "metadata": {},
   "source": [
    "#### Type conversion"
   ]
  },
  {
   "cell_type": "code",
   "execution_count": 1874,
   "metadata": {},
   "outputs": [],
   "source": [
    "donors['zipcode'] = donors['zipcode'].astype(int)"
   ]
  },
  {
   "cell_type": "markdown",
   "metadata": {},
   "source": [
    "converting dateofbirth to datetime , dropping rows with with null date of birth values"
   ]
  },
  {
   "cell_type": "code",
   "execution_count": 1875,
   "metadata": {},
   "outputs": [],
   "source": [
    "# Converting 'dateOfBirth' to datetime type\n",
    "donors['dateOfBirth'] = pd.to_datetime(donors['dateOfBirth'], format='%m/%d/%Y', errors='coerce')\n",
    "\n",
    "# Dropping rows with invalid dates\n",
    "donors = donors.dropna(subset=['dateOfBirth'])\n",
    "\n",
    "# Creating a flag variable to indicate if gender was missing\n",
    "donors['gender_missing'] = donors['gender'].isna().astype(int)\n",
    "\n",
    "# Replacing missing gender values with the mode\n",
    "gender_mode = donors['gender'].mode()[0]\n",
    "donors['gender'] = donors['gender'].fillna(gender_mode)\n",
    "\n"
   ]
  },
  {
   "cell_type": "code",
   "execution_count": null,
   "metadata": {},
   "outputs": [],
   "source": [
    "missing_values = donors.isnull().sum()\n",
    "print(\"Missing Values per Column:\\n\", missing_values)"
   ]
  },
  {
   "cell_type": "code",
   "execution_count": 1877,
   "metadata": {},
   "outputs": [],
   "source": [
    "# One-hot encode the 'language' column\n",
    "donors = pd.get_dummies(donors, columns=['language'], prefix='lang',dtype=int,drop_first=True)\n",
    "\n"
   ]
  },
  {
   "cell_type": "markdown",
   "metadata": {},
   "source": [
    "We chose a time gap of 1 month from the drop date of 4th September 2019. That is August 4 2018. From that point we take the last 5 years of data to maintain uniformity."
   ]
  },
  {
   "cell_type": "code",
   "execution_count": null,
   "metadata": {},
   "outputs": [],
   "source": [
    "#cutoff date is 4 aug 2018\n",
    "cutoff_date = pd.Timestamp(\"2018-08-04\")  # Corrected date format\n",
    "cutin_date = cutoff_date - pd.DateOffset(years=5)\n",
    "\n",
    "print(\"Cutoff Date:\", cutoff_date)\n",
    "print(\"Cut-in Date:\", cutin_date)\n",
    "\n",
    "\n"
   ]
  },
  {
   "cell_type": "markdown",
   "metadata": {},
   "source": [
    "\n",
    "\n",
    "\n",
    "Calculating age based on the cut-off date."
   ]
  },
  {
   "cell_type": "code",
   "execution_count": 1879,
   "metadata": {},
   "outputs": [],
   "source": [
    "donors['age'] = (cutoff_date - donors['dateOfBirth']).dt.days // 365"
   ]
  },
  {
   "cell_type": "markdown",
   "metadata": {},
   "source": [
    "Checking for unrealistic ages"
   ]
  },
  {
   "cell_type": "code",
   "execution_count": 1880,
   "metadata": {},
   "outputs": [],
   "source": [
    "# Checking for unrealistic ages (e.g., negative or very large values)\n",
    "unrealistic_ages = donors[(donors['age'] < 0) | (donors['age'] > 120)]"
   ]
  },
  {
   "cell_type": "code",
   "execution_count": null,
   "metadata": {},
   "outputs": [],
   "source": [
    "unrealistic_ages.head()"
   ]
  },
  {
   "cell_type": "markdown",
   "metadata": {},
   "source": [
    "Filtering for unrealistic ages"
   ]
  },
  {
   "cell_type": "code",
   "execution_count": 1882,
   "metadata": {},
   "outputs": [],
   "source": [
    "donors_cleaned = donors[donors['age'] <= 120]"
   ]
  },
  {
   "cell_type": "markdown",
   "metadata": {},
   "source": [
    "Binning age"
   ]
  },
  {
   "cell_type": "code",
   "execution_count": null,
   "metadata": {},
   "outputs": [],
   "source": [
    "min_age = 20\n",
    "max_age = 120\n",
    "\n",
    "\n",
    "\n",
    "\n",
    "bins = list(range(int(min_age // 10) * 10, int(max_age // 10 + 1) * 10 + 1, 10))  \n",
    "labels = [f'{bins[i]}-{bins[i+1]-1}' for i in range(len(bins) - 1)]  \n",
    "\n",
    "\n",
    "donors_cleaned['age_group'] = pd.cut(donors_cleaned['age'], bins=bins, labels=labels, right=False)\n",
    "\n"
   ]
  },
  {
   "cell_type": "markdown",
   "metadata": {},
   "source": [
    "Checking the cleaned age group distribution"
   ]
  },
  {
   "cell_type": "code",
   "execution_count": null,
   "metadata": {},
   "outputs": [],
   "source": [
    "donors_cleaned['age_group'].value_counts(dropna=False)"
   ]
  },
  {
   "cell_type": "code",
   "execution_count": null,
   "metadata": {},
   "outputs": [],
   "source": [
    "missing_values = donors_cleaned.isnull().sum()\n",
    "print(\"Missing Values per Column:\\n\", missing_values)"
   ]
  },
  {
   "cell_type": "markdown",
   "metadata": {},
   "source": [
    "Dummies for region, age group and province"
   ]
  },
  {
   "cell_type": "code",
   "execution_count": 1886,
   "metadata": {},
   "outputs": [],
   "source": [
    "donors_cleaned = pd.get_dummies(donors_cleaned, columns=['region'], prefix='reg',dtype=int,drop_first=True)\n",
    "donors_cleaned = pd.get_dummies(donors_cleaned, columns=['age_group'], prefix='age_group',dtype=int,drop_first=True)\n",
    "donors_cleaned = pd.get_dummies(donors_cleaned, columns=['province'], prefix='province',dtype=int,drop_first=True)\n"
   ]
  },
  {
   "cell_type": "code",
   "execution_count": null,
   "metadata": {},
   "outputs": [],
   "source": [
    "donors_cleaned.head()"
   ]
  },
  {
   "cell_type": "markdown",
   "metadata": {},
   "source": [
    "Flag variable for gender"
   ]
  },
  {
   "cell_type": "code",
   "execution_count": 1888,
   "metadata": {},
   "outputs": [],
   "source": [
    "donors_cleaned['gender_flag'] = donors_cleaned['gender'].map({'M': 1, 'F': 0})"
   ]
  },
  {
   "cell_type": "code",
   "execution_count": null,
   "metadata": {},
   "outputs": [],
   "source": [
    "true_count = donors_cleaned['reg_Missing'].sum()\n",
    "true_count"
   ]
  },
  {
   "cell_type": "markdown",
   "metadata": {},
   "source": [
    "Dropping irrelevant columns"
   ]
  },
  {
   "cell_type": "code",
   "execution_count": 1891,
   "metadata": {},
   "outputs": [],
   "source": [
    "donors_cleaned = donors_cleaned.drop(columns = ['gender','dateOfBirth','age'])"
   ]
  },
  {
   "cell_type": "markdown",
   "metadata": {},
   "source": [
    "Now we will clean the gifts dataset and create some features"
   ]
  },
  {
   "cell_type": "code",
   "execution_count": null,
   "metadata": {},
   "outputs": [],
   "source": [
    "gifts.head()"
   ]
  },
  {
   "cell_type": "markdown",
   "metadata": {},
   "source": [
    "Filling Missing values for campaignID , converting date into datetime and making amount into a useable column."
   ]
  },
  {
   "cell_type": "code",
   "execution_count": 1894,
   "metadata": {},
   "outputs": [],
   "source": [
    "gifts['campaignID']= gifts['campaignID'].fillna(-1)\n",
    "gifts['date'] = pd.to_datetime(gifts['date'], errors='coerce',format = '%d/%m/%Y')\n",
    "gifts['amount'] = gifts['amount'].str.replace('.', '', regex=False).str.replace(',', '.', regex=False)\n",
    "\n",
    "\n"
   ]
  },
  {
   "cell_type": "code",
   "execution_count": null,
   "metadata": {},
   "outputs": [],
   "source": [
    "gifts.head()"
   ]
  },
  {
   "cell_type": "code",
   "execution_count": null,
   "metadata": {},
   "outputs": [],
   "source": [
    "gifts.dtypes"
   ]
  },
  {
   "cell_type": "code",
   "execution_count": null,
   "metadata": {},
   "outputs": [],
   "source": [
    "missing_values = gifts.isnull().sum()\n",
    "print(\"Missing Values per Column:\\n\", missing_values)"
   ]
  },
  {
   "cell_type": "markdown",
   "metadata": {},
   "source": [
    "Converting amount to numeric"
   ]
  },
  {
   "cell_type": "code",
   "execution_count": 1898,
   "metadata": {},
   "outputs": [],
   "source": [
    "gifts['amount'] = pd.to_numeric(gifts['amount'],errors='coerce')"
   ]
  },
  {
   "cell_type": "markdown",
   "metadata": {},
   "source": [
    "Filtering based on cutoff and cut-in days"
   ]
  },
  {
   "cell_type": "code",
   "execution_count": 1899,
   "metadata": {},
   "outputs": [],
   "source": [
    "gifts_before_camp1cutoff = gifts[(gifts['date'] < cutoff_date) & (gifts['date'] > cutin_date)]\n"
   ]
  },
  {
   "cell_type": "markdown",
   "metadata": {},
   "source": [
    "RFM features engineered"
   ]
  },
  {
   "cell_type": "code",
   "execution_count": 1901,
   "metadata": {},
   "outputs": [],
   "source": [
    "frequency_df = gifts_before_camp1cutoff.groupby('donorID').size().reset_index(name='no_of_donations')\n",
    "monetary_df = gifts_before_camp1cutoff.groupby('donorID')['amount'].sum().reset_index(name='sum_of_donations')\n",
    "recency_df = gifts_before_camp1cutoff.groupby('donorID')['date'].max().reset_index(name = 'last_donation_date')\n"
   ]
  },
  {
   "cell_type": "code",
   "execution_count": null,
   "metadata": {},
   "outputs": [],
   "source": [
    "frequency_df.head()"
   ]
  },
  {
   "cell_type": "code",
   "execution_count": null,
   "metadata": {},
   "outputs": [],
   "source": [
    "monetary_df.head()"
   ]
  },
  {
   "cell_type": "code",
   "execution_count": null,
   "metadata": {},
   "outputs": [],
   "source": [
    "recency_df.head()"
   ]
  },
  {
   "cell_type": "markdown",
   "metadata": {},
   "source": [
    "Creating recency columns for each donor"
   ]
  },
  {
   "cell_type": "code",
   "execution_count": 1905,
   "metadata": {},
   "outputs": [],
   "source": [
    "recency_df['days_since_last_donation'] = cutoff_date - recency_df['last_donation_date']"
   ]
  },
  {
   "cell_type": "code",
   "execution_count": null,
   "metadata": {},
   "outputs": [],
   "source": [
    "recency_df.head()"
   ]
  },
  {
   "cell_type": "markdown",
   "metadata": {},
   "source": [
    "Merging all of them together"
   ]
  },
  {
   "cell_type": "code",
   "execution_count": 1907,
   "metadata": {},
   "outputs": [],
   "source": [
    "merged_df_pre_campaign = pd.merge(frequency_df,monetary_df,on= 'donorID')\n",
    "merged_df_pre_campaign = pd.merge(merged_df_pre_campaign,recency_df,on= 'donorID')"
   ]
  },
  {
   "cell_type": "markdown",
   "metadata": {},
   "source": [
    "Dropping unnecessary columns"
   ]
  },
  {
   "cell_type": "code",
   "execution_count": null,
   "metadata": {},
   "outputs": [],
   "source": [
    "merged_df_pre_campaign = merged_df_pre_campaign.drop(columns='last_donation_date')\n",
    "merged_df_pre_campaign.head()"
   ]
  },
  {
   "cell_type": "markdown",
   "metadata": {},
   "source": [
    "Binning days_since_last_donation so we can onehot encode them."
   ]
  },
  {
   "cell_type": "code",
   "execution_count": null,
   "metadata": {},
   "outputs": [],
   "source": [
    "# Adjust bins and labels for a 5-year range\n",
    "days_bins = [0, 90, 180, 270, 360, 450, 540, 630, 720, 810, 900, 990, 1080, 1170, 1260, 1350, 1440, 1530, 1620, 1710, 1825, float('inf')]\n",
    "days_labels = [\n",
    "    '0-3 months', '3-6 months', '6-9 months', '9-12 months', \n",
    "    '12-15 months', '15-18 months', '18-21 months', '21-24 months', \n",
    "    '24-27 months', '27-30 months', '30-33 months', '33-36 months', \n",
    "    '36-39 months', '39-42 months', '42-45 months', '45-48 months', \n",
    "    '48-51 months', '51-54 months', '54-57 months', '57-60 months', '60+ months'\n",
    "]\n",
    "\n",
    "# Apply the updated bins\n",
    "merged_df_pre_campaign['days_bins'] = pd.cut(\n",
    "    merged_df_pre_campaign['days_since_last_donation'].dt.days,\n",
    "    bins=days_bins,\n",
    "    labels=days_labels,\n",
    "    right=False\n",
    ")\n",
    "\n",
    "# Display the updated DataFrame\n",
    "print(merged_df_pre_campaign[['days_since_last_donation', 'days_bins']].head())\n"
   ]
  },
  {
   "cell_type": "markdown",
   "metadata": {},
   "source": [
    "Binning sum of donations as well"
   ]
  },
  {
   "cell_type": "code",
   "execution_count": null,
   "metadata": {},
   "outputs": [],
   "source": [
    "bin_edges = list(range(0, 181, 10)) + [float('inf')]  # Add 10-based bins and a final bin for 180+\n",
    "bin_labels = [f'{bin_edges[i]}-{bin_edges[i + 1] - 1}' for i in range(len(bin_edges) - 2)] + ['180+']  # Create labels\n",
    "\n",
    "# Apply the bins to create 'donation_value_bins'\n",
    "merged_df_pre_campaign['donation_value_bins'] = pd.cut(\n",
    "    merged_df_pre_campaign['sum_of_donations'],\n",
    "    bins=bin_edges,  # Use manually defined bin edges\n",
    "    labels=bin_labels,  # Use manually defined bin labels\n",
    "    right=False  # Bin intervals are left-inclusive\n",
    ")\n",
    "\n",
    "# Display the resulting DataFrame\n",
    "print(merged_df_pre_campaign[['sum_of_donations', 'donation_value_bins']].head())\n"
   ]
  },
  {
   "cell_type": "code",
   "execution_count": null,
   "metadata": {},
   "outputs": [],
   "source": [
    "merged_df_pre_campaign[['donation_value_bins']].value_counts()"
   ]
  },
  {
   "cell_type": "code",
   "execution_count": null,
   "metadata": {},
   "outputs": [],
   "source": [
    "merged_df_pre_campaign['donation_value_bins'].value_counts(dropna=False)"
   ]
  },
  {
   "cell_type": "markdown",
   "metadata": {},
   "source": [
    "Creating dummies"
   ]
  },
  {
   "cell_type": "code",
   "execution_count": 1915,
   "metadata": {},
   "outputs": [],
   "source": [
    "merged_df_pre_campaign = pd.get_dummies(merged_df_pre_campaign, columns=['days_bins'], prefix='days_bins',dtype=int)\n",
    "merged_df_pre_campaign = pd.get_dummies(merged_df_pre_campaign, columns=['donation_value_bins'], prefix='donation_value_bins',dtype=int)"
   ]
  },
  {
   "cell_type": "markdown",
   "metadata": {},
   "source": [
    "Dropping irrelevant columns"
   ]
  },
  {
   "cell_type": "code",
   "execution_count": 1916,
   "metadata": {},
   "outputs": [],
   "source": [
    "merged_df_pre_campaign= merged_df_pre_campaign.drop(columns=['sum_of_donations','days_since_last_donation'])"
   ]
  },
  {
   "cell_type": "code",
   "execution_count": null,
   "metadata": {},
   "outputs": [],
   "source": [
    "gifts_before_camp1cutoff.head()"
   ]
  },
  {
   "cell_type": "markdown",
   "metadata": {},
   "source": [
    "Bringing it together"
   ]
  },
  {
   "cell_type": "code",
   "execution_count": 1919,
   "metadata": {},
   "outputs": [],
   "source": [
    "train_selected_donors = campaign6169.merge(donors_cleaned, on='donorID', how='inner')"
   ]
  },
  {
   "cell_type": "code",
   "execution_count": null,
   "metadata": {},
   "outputs": [],
   "source": [
    "train_selected_donors.head()"
   ]
  },
  {
   "cell_type": "code",
   "execution_count": null,
   "metadata": {},
   "outputs": [],
   "source": [
    "missing_values = train_selected_donors.isnull().sum()\n",
    "print(\"Missing Values per Column:\\n\", missing_values)"
   ]
  },
  {
   "cell_type": "markdown",
   "metadata": {},
   "source": [
    "Creating a filtered table of all the donors who did donate for the campaign"
   ]
  },
  {
   "cell_type": "code",
   "execution_count": 1922,
   "metadata": {},
   "outputs": [],
   "source": [
    "gifts_filtered = gifts[(gifts['campaignID'] == 6169) & (gifts['amount'] >= 30)]"
   ]
  },
  {
   "cell_type": "markdown",
   "metadata": {},
   "source": [
    "Creating a flag variable for whether the campaign was a success or not"
   ]
  },
  {
   "cell_type": "code",
   "execution_count": 1923,
   "metadata": {},
   "outputs": [],
   "source": [
    "train_selected_donors['campaign6169success'] = train_selected_donors['donorID'].isin(gifts_filtered['donorID']).astype(int)"
   ]
  },
  {
   "cell_type": "code",
   "execution_count": null,
   "metadata": {},
   "outputs": [],
   "source": [
    "train_selected_donors"
   ]
  },
  {
   "cell_type": "code",
   "execution_count": null,
   "metadata": {},
   "outputs": [],
   "source": [
    "missing_values = train_selected_donors.isnull().sum()\n",
    "print(\"Missing Values per Column:\\n\", missing_values)"
   ]
  },
  {
   "cell_type": "markdown",
   "metadata": {},
   "source": [
    "Merging additional info for those who were active before hand"
   ]
  },
  {
   "cell_type": "code",
   "execution_count": 1926,
   "metadata": {},
   "outputs": [],
   "source": [
    "train_final = train_selected_donors.merge(merged_df_pre_campaign, on= 'donorID', how = 'left')"
   ]
  },
  {
   "cell_type": "code",
   "execution_count": 1927,
   "metadata": {},
   "outputs": [],
   "source": [
    "train_final['no_of_donations']= train_final['no_of_donations'].fillna(0)\n",
    "# train_final['days_since_last_donation']= train_final['days_since_last_donation'].fillna(-1)\n",
    "# train_final['sum_of_donations']= train_final['sum_of_donations'].fillna(0)"
   ]
  },
  {
   "cell_type": "code",
   "execution_count": null,
   "metadata": {},
   "outputs": [],
   "source": [
    "train_final.isna().sum()"
   ]
  },
  {
   "cell_type": "code",
   "execution_count": 1929,
   "metadata": {},
   "outputs": [],
   "source": [
    "train_final = train_final.fillna(0)"
   ]
  },
  {
   "cell_type": "code",
   "execution_count": null,
   "metadata": {},
   "outputs": [],
   "source": [
    "train_final.isna().sum()"
   ]
  },
  {
   "cell_type": "code",
   "execution_count": null,
   "metadata": {},
   "outputs": [],
   "source": [
    "# Create a flag variable for null values in 'no_of_donations'\n",
    "train_final['active_in_last_five_years'] = train_final['no_of_donations'].notnull().astype(int)\n",
    "\n",
    "train_final"
   ]
  },
  {
   "cell_type": "code",
   "execution_count": 1932,
   "metadata": {},
   "outputs": [],
   "source": [
    "\n",
    "train_final.to_csv('train_final.csv')"
   ]
  }
 ],
 "metadata": {
  "kernelspec": {
   "display_name": "Python 3",
   "language": "python",
   "name": "python3"
  },
  "language_info": {
   "codemirror_mode": {
    "name": "ipython",
    "version": 3
   },
   "file_extension": ".py",
   "mimetype": "text/x-python",
   "name": "python",
   "nbconvert_exporter": "python",
   "pygments_lexer": "ipython3",
   "version": "3.12.1"
  }
 },
 "nbformat": 4,
 "nbformat_minor": 2
}
